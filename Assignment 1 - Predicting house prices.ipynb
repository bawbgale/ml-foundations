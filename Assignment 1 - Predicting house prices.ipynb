{
 "cells": [
  {
   "cell_type": "code",
   "execution_count": 6,
   "metadata": {
    "collapsed": true
   },
   "outputs": [],
   "source": [
    "import graphlab"
   ]
  },
  {
   "cell_type": "code",
   "execution_count": 7,
   "metadata": {
    "collapsed": false
   },
   "outputs": [
    {
     "name": "stderr",
     "output_type": "stream",
     "text": [
      "[INFO] This non-commercial license of GraphLab Create is assigned to bawbgale@gmail.comand will expire on October 25, 2016. For commercial licensing options, visit https://dato.com/buy/.\n",
      "\n",
      "[INFO] Start server at: ipc:///tmp/graphlab_server-1234 - Server binary: /Users/bob/Dev/ml-foundations/dato-env/lib/python2.7/site-packages/graphlab/unity_server - Server log: /tmp/graphlab_server_1446643136.log\n",
      "[INFO] GraphLab Server Version: 1.6.1\n"
     ]
    }
   ],
   "source": [
    "sales = graphlab.SFrame('home_data.gl/')"
   ]
  },
  {
   "cell_type": "code",
   "execution_count": 8,
   "metadata": {
    "collapsed": true
   },
   "outputs": [],
   "source": [
    "graphlab.canvas.set_target('ipynb')"
   ]
  },
  {
   "cell_type": "markdown",
   "metadata": {},
   "source": [
    "# 1. Selection and summary statistics\n",
    "In the notebook we covered in the module, we discovered which neighborhood (zip code) of Seattle had the highest average house sale price. Now, take the sales data, select only the houses with this zip code, and compute the average price. Save this result to answer the quiz at the end."
   ]
  },
  {
   "cell_type": "code",
   "execution_count": 9,
   "metadata": {
    "collapsed": false
   },
   "outputs": [],
   "source": [
    "top_zip_sales = sales.filter_by('98039','zipcode')"
   ]
  },
  {
   "cell_type": "code",
   "execution_count": 10,
   "metadata": {
    "collapsed": false
   },
   "outputs": [
    {
     "data": {
      "application/javascript": [
       "$(\"head\").append($(\"<link/>\").attr({\n",
       "  rel:  \"stylesheet\",\n",
       "  type: \"text/css\",\n",
       "  href: \"//cdnjs.cloudflare.com/ajax/libs/font-awesome/4.1.0/css/font-awesome.min.css\"\n",
       "}));\n",
       "$(\"head\").append($(\"<link/>\").attr({\n",
       "  rel:  \"stylesheet\",\n",
       "  type: \"text/css\",\n",
       "  href: \"//dato.com/files/canvas/1.6.1/css/canvas.css\"\n",
       "}));\n",
       "\n",
       "            (function(){\n",
       "\n",
       "                var e = null;\n",
       "                if (typeof element == 'undefined') {\n",
       "                    var scripts = document.getElementsByTagName('script');\n",
       "                    var thisScriptTag = scripts[scripts.length-1];\n",
       "                    var parentDiv = thisScriptTag.parentNode;\n",
       "                    e = document.createElement('div');\n",
       "                    parentDiv.appendChild(e);\n",
       "                } else {\n",
       "                    e = element[0];\n",
       "                }\n",
       "\n",
       "                if (typeof requirejs !== 'undefined') {\n",
       "                    // disable load timeout; ipython_app.js is large and can take a while to load.\n",
       "                    requirejs.config({waitSeconds: 0});\n",
       "                }\n",
       "\n",
       "                require(['//dato.com/files/canvas/1.6.1/js/ipython_app.js'], function(IPythonApp){\n",
       "                    var app = new IPythonApp();\n",
       "                    app.attachView('sframe','Summary', {\"ipython\": true, \"sketch\": {\"price\": {\"std\": 1154753.655025365, \"complete\": true, \"min\": 787500.0, \"max\": 6885000.0, \"quantile\": [787500.0, 787500.0, 865000.0, 865000.0, 875000.0, 875000.0, 937500.0, 937500.0, 940000.0, 940000.0, 1000000.0, 1000000.0, 1000000.0, 1160000.0, 1160000.0, 1200000.0, 1225000.0, 1225000.0, 1260000.0, 1260000.0, 1320000.0, 1320000.0, 1350000.0, 1350000.0, 1398000.0, 1398000.0, 1410000.0, 1410000.0, 1450000.0, 1450000.0, 1550000.0, 1550000.0, 1555000.0, 1555000.0, 1620000.0, 1620000.0, 1651000.0, 1651000.0, 1712750.0, 1712750.0, 1762000.0, 1762000.0, 1800000.0, 1800000.0, 1865000.0, 1865000.0, 1880000.0, 1880000.0, 1880000.0, 1880000.0, 1905000.0, 1905000.0, 1920000.0, 1920000.0, 1950000.0, 1950000.0, 1950000.0, 1950000.0, 2100000.0, 2100000.0, 2187730.0, 2187730.0, 2200000.0, 2200000.0, 2250000.0, 2250000.0, 2271150.0, 2271150.0, 2450000.0, 2450000.0, 2458000.0, 2458000.0, 2500000.0, 2500000.0, 2575000.0, 2575000.0, 2680000.0, 2680000.0, 2720000.0, 2720000.0, 2750000.0, 2750000.0, 2900000.0, 2900000.0, 2950000.0, 2950000.0, 3418800.0, 3418800.0, 3635000.0, 3635000.0, 3640900.0, 3640900.0, 3710000.0, 3710000.0, 4000000.0, 4000000.0, 5570000.0, 5570000.0, 6885000.0, 6885000.0, 6885000.0], \"median\": 1905000.0, \"numeric\": true, \"num_unique\": 48, \"num_undefined\": 0, \"var\": 1333456003794.44, \"progress\": 1.0, \"size\": 50, \"frequent_items\": {\"4000000\": {\"frequency\": 1, \"value\": 4000000}, \"1200000\": {\"frequency\": 1, \"value\": 1200000}, \"1880000\": {\"frequency\": 2, \"value\": 1880000}, \"6885000\": {\"frequency\": 1, \"value\": 6885000}, \"1905000\": {\"frequency\": 1, \"value\": 1905000}, \"2720000\": {\"frequency\": 1, \"value\": 2720000}, \"1450000\": {\"frequency\": 1, \"value\": 1450000}, \"2200000\": {\"frequency\": 1, \"value\": 2200000}, \"1260000\": {\"frequency\": 1, \"value\": 1260000}, \"2680000\": {\"frequency\": 1, \"value\": 2680000}, \"2575000\": {\"frequency\": 1, \"value\": 2575000}, \"937500\": {\"frequency\": 1, \"value\": 937500}, \"1800000\": {\"frequency\": 1, \"value\": 1800000}, \"2100000\": {\"frequency\": 1, \"value\": 2100000}, \"1160000\": {\"frequency\": 1, \"value\": 1160000}, \"1950000\": {\"frequency\": 2, \"value\": 1950000}, \"1865000\": {\"frequency\": 1, \"value\": 1865000}, \"787500\": {\"frequency\": 1, \"value\": 787500}, \"2271150\": {\"frequency\": 1, \"value\": 2271150}, \"3710000\": {\"frequency\": 1, \"value\": 3710000}, \"2450000\": {\"frequency\": 1, \"value\": 2450000}, \"1651000\": {\"frequency\": 1, \"value\": 1651000}, \"1225000\": {\"frequency\": 1, \"value\": 1225000}, \"1320000\": {\"frequency\": 1, \"value\": 1320000}, \"1620000\": {\"frequency\": 1, \"value\": 1620000}, \"3640900\": {\"frequency\": 1, \"value\": 3640900}, \"2900000\": {\"frequency\": 1, \"value\": 2900000}, \"1000000\": {\"frequency\": 1, \"value\": 1000000}, \"1398000\": {\"frequency\": 1, \"value\": 1398000}, \"1410000\": {\"frequency\": 1, \"value\": 1410000}, \"3635000\": {\"frequency\": 1, \"value\": 3635000}, \"2187730\": {\"frequency\": 1, \"value\": 2187730}, \"2750000\": {\"frequency\": 1, \"value\": 2750000}, \"1550000\": {\"frequency\": 1, \"value\": 1550000}, \"2250000\": {\"frequency\": 1, \"value\": 2250000}, \"940000\": {\"frequency\": 1, \"value\": 940000}, \"5570000\": {\"frequency\": 1, \"value\": 5570000}, \"1920000\": {\"frequency\": 1, \"value\": 1920000}, \"1555000\": {\"frequency\": 1, \"value\": 1555000}, \"865000\": {\"frequency\": 1, \"value\": 865000}, \"1712750\": {\"frequency\": 1, \"value\": 1712750}, \"2950000\": {\"frequency\": 1, \"value\": 2950000}, \"1350000\": {\"frequency\": 1, \"value\": 1350000}, \"2458000\": {\"frequency\": 1, \"value\": 2458000}, \"2500000\": {\"frequency\": 1, \"value\": 2500000}, \"875000\": {\"frequency\": 1, \"value\": 875000}, \"3418800\": {\"frequency\": 1, \"value\": 3418800}, \"1762000\": {\"frequency\": 1, \"value\": 1762000}}, \"mean\": 2160606.5999999996}}, \"selected_variable\": {\"name\": [\"<SFrame>\"], \"descriptives\": {\"rows\": 50, \"columns\": 1}, \"view_component\": \"Summary\", \"view_file\": \"sframe\", \"view_params\": {\"y\": null, \"x\": null, \"columns\": [\"price\"], \"view\": \"Summary\"}, \"view_components\": [\"Summary\", \"Table\", \"Bar Chart\", \"BoxWhisker Plot\", \"Line Chart\", \"Scatter Plot\", \"Heat Map\", \"Plots\"], \"type\": \"SFrame\", \"columns\": [{\"dtype\": \"int\", \"name\": \"price\"}], \"column_identifiers\": [\"price\"]}, \"columns\": [{\"dtype\": \"int\", \"name\": \"price\"}]}, e);\n",
       "                });\n",
       "            })();\n",
       "        "
      ]
     },
     "metadata": {},
     "output_type": "display_data"
    }
   ],
   "source": [
    "top_zip_sales[['price']].show(view='Summary')"
   ]
  },
  {
   "cell_type": "markdown",
   "metadata": {},
   "source": [
    "### ==> average house price in 98039 is 2,160,606.6"
   ]
  },
  {
   "cell_type": "markdown",
   "metadata": {},
   "source": [
    "# 2. Filtering data\n",
    "Using such filters, first select the houses that have ‘sqft_living’ higher than 2000 sqft but no larger than 4000 sqft.\n",
    "What fraction of the all houses have ‘sqft_living’ in this range? Save this result to answer the quiz at the end."
   ]
  },
  {
   "cell_type": "code",
   "execution_count": 11,
   "metadata": {
    "collapsed": true
   },
   "outputs": [],
   "source": [
    "sales_filtered = sales[(sales['sqft_living'] > 2000) & (sales['sqft_living'] <= 4000)]"
   ]
  },
  {
   "cell_type": "code",
   "execution_count": 12,
   "metadata": {
    "collapsed": false
   },
   "outputs": [
    {
     "name": "stdout",
     "output_type": "stream",
     "text": [
      "0.421875722945\n"
     ]
    }
   ],
   "source": [
    "print 1.0 * sales_filtered.num_rows() / sales.num_rows()"
   ]
  },
  {
   "cell_type": "markdown",
   "metadata": {},
   "source": [
    "### ==> fraction of the all houses have ‘sqft_living’ in this range is 0.421875722945"
   ]
  },
  {
   "cell_type": "markdown",
   "metadata": {},
   "source": [
    "# 3. Building a regression model with several more features\n",
    "What is the difference in RMSE between the model trained with my_features and the one trained with advanced_features? Save this result to answer the quiz at the end."
   ]
  },
  {
   "cell_type": "code",
   "execution_count": 13,
   "metadata": {
    "collapsed": false
   },
   "outputs": [],
   "source": [
    "advanced_features = [\n",
    "'bedrooms', 'bathrooms', 'sqft_living', 'sqft_lot', 'floors', 'zipcode',\n",
    "'condition', # condition of house\t\t\t\t\n",
    "'grade', # measure of quality of construction\t\t\t\t\n",
    "'waterfront', # waterfront property\t\t\t\t\n",
    "'view', # type of view\t\t\t\t\n",
    "'sqft_above', # square feet above ground\t\t\t\t\n",
    "'sqft_basement', # square feet in basement\t\t\t\t\n",
    "'yr_built', # the year built\t\t\t\t\n",
    "'yr_renovated', # the year renovated\t\t\t\t\n",
    "'lat', 'long', # the lat-long of the parcel\t\t\t\t\n",
    "'sqft_living15', # average sq.ft. of 15 nearest neighbors \t\t\t\t\n",
    "'sqft_lot15', # average lot size of 15 nearest neighbors \n",
    "]"
   ]
  },
  {
   "cell_type": "code",
   "execution_count": 14,
   "metadata": {
    "collapsed": false
   },
   "outputs": [
    {
     "name": "stdout",
     "output_type": "stream",
     "text": [
      "['bedrooms', 'bathrooms', 'sqft_living', 'sqft_lot', 'floors', 'zipcode', 'condition', 'grade', 'waterfront', 'view', 'sqft_above', 'sqft_basement', 'yr_built', 'yr_renovated', 'lat', 'long', 'sqft_living15', 'sqft_lot15']\n"
     ]
    }
   ],
   "source": [
    "print advanced_features"
   ]
  },
  {
   "cell_type": "code",
   "execution_count": 15,
   "metadata": {
    "collapsed": true
   },
   "outputs": [],
   "source": [
    "my_features = ['bedrooms', 'bathrooms', 'sqft_living', 'sqft_lot', 'floors', 'zipcode']"
   ]
  },
  {
   "cell_type": "markdown",
   "metadata": {},
   "source": [
    "Compute the RMSE (root mean squared error) on the test_data for the model using just my_features, and for the one using advanced_features."
   ]
  },
  {
   "cell_type": "code",
   "execution_count": 16,
   "metadata": {
    "collapsed": false
   },
   "outputs": [],
   "source": [
    "train_data,test_data = sales.random_split(.8,seed=0)"
   ]
  },
  {
   "cell_type": "code",
   "execution_count": 17,
   "metadata": {
    "collapsed": false
   },
   "outputs": [
    {
     "name": "stdout",
     "output_type": "stream",
     "text": [
      "PROGRESS: Linear regression:\n",
      "PROGRESS: --------------------------------------------------------\n",
      "PROGRESS: Number of examples          : 17384\n",
      "PROGRESS: Number of features          : 6\n",
      "PROGRESS: Number of unpacked features : 6\n",
      "PROGRESS: Number of coefficients    : 115\n",
      "PROGRESS: Starting Newton Method\n",
      "PROGRESS: --------------------------------------------------------\n",
      "PROGRESS: +-----------+----------+--------------+--------------------+---------------+\n",
      "PROGRESS: | Iteration | Passes   | Elapsed Time | Training-max_error | Training-rmse |\n",
      "PROGRESS: +-----------+----------+--------------+--------------------+---------------+\n",
      "PROGRESS: | 1         | 2        | 1.056223     | 3763208.270523     | 181908.848367 |\n",
      "PROGRESS: +-----------+----------+--------------+--------------------+---------------+\n"
     ]
    }
   ],
   "source": [
    "my_features_model = graphlab.linear_regression.create(train_data,target='price',features=my_features,validation_set=None)"
   ]
  },
  {
   "cell_type": "code",
   "execution_count": 18,
   "metadata": {
    "collapsed": false
   },
   "outputs": [
    {
     "name": "stdout",
     "output_type": "stream",
     "text": [
      "PROGRESS: Linear regression:\n",
      "PROGRESS: --------------------------------------------------------\n",
      "PROGRESS: Number of examples          : 17384\n",
      "PROGRESS: Number of features          : 18\n",
      "PROGRESS: Number of unpacked features : 18\n",
      "PROGRESS: Number of coefficients    : 127\n",
      "PROGRESS: Starting Newton Method\n",
      "PROGRESS: --------------------------------------------------------\n",
      "PROGRESS: +-----------+----------+--------------+--------------------+---------------+\n",
      "PROGRESS: | Iteration | Passes   | Elapsed Time | Training-max_error | Training-rmse |\n",
      "PROGRESS: +-----------+----------+--------------+--------------------+---------------+\n",
      "PROGRESS: | 1         | 2        | 0.079081     | 3469012.450686     | 154580.940736 |\n",
      "PROGRESS: +-----------+----------+--------------+--------------------+---------------+\n"
     ]
    }
   ],
   "source": [
    "advanced_features_model = graphlab.linear_regression.create(train_data,target='price',features=advanced_features,validation_set=None)"
   ]
  },
  {
   "cell_type": "code",
   "execution_count": 21,
   "metadata": {
    "collapsed": false
   },
   "outputs": [
    {
     "name": "stdout",
     "output_type": "stream",
     "text": [
      "{'max_error': 3486584.509381705, 'rmse': 179542.4333126903}\n",
      "{'max_error': 3556849.413858208, 'rmse': 156831.1168021901}\n"
     ]
    }
   ],
   "source": [
    "print my_features_model.evaluate(test_data)\n",
    "print advanced_features_model.evaluate(test_data)"
   ]
  },
  {
   "cell_type": "code",
   "execution_count": 22,
   "metadata": {
    "collapsed": false
   },
   "outputs": [
    {
     "name": "stdout",
     "output_type": "stream",
     "text": [
      "22711.3165105\n"
     ]
    }
   ],
   "source": [
    "print my_features_model.evaluate(test_data)['rmse'] - advanced_features_model.evaluate(test_data)['rmse']"
   ]
  },
  {
   "cell_type": "markdown",
   "metadata": {},
   "source": [
    "### ==> difference in RMSE between the model trained with my_features and the one trained with advanced_features is 22711.3165105"
   ]
  },
  {
   "cell_type": "code",
   "execution_count": null,
   "metadata": {
    "collapsed": true
   },
   "outputs": [],
   "source": []
  }
 ],
 "metadata": {
  "kernelspec": {
   "display_name": "Python 2",
   "language": "python",
   "name": "python2"
  },
  "language_info": {
   "codemirror_mode": {
    "name": "ipython",
    "version": 2
   },
   "file_extension": ".py",
   "mimetype": "text/x-python",
   "name": "python",
   "nbconvert_exporter": "python",
   "pygments_lexer": "ipython2",
   "version": "2.7.10"
  }
 },
 "nbformat": 4,
 "nbformat_minor": 0
}
